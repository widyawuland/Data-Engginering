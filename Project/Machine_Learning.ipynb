{
  "nbformat": 4,
  "nbformat_minor": 0,
  "metadata": {
    "colab": {
      "provenance": []
    },
    "kernelspec": {
      "name": "python3",
      "display_name": "Python 3"
    },
    "language_info": {
      "name": "python"
    }
  },
  "cells": [
    {
      "cell_type": "markdown",
      "source": [
        "# MACHINE LEARNING"
      ],
      "metadata": {
        "id": "vuamUevoyIbT"
      }
    },
    {
      "cell_type": "markdown",
      "source": [
        "**Prediksi Nilai Ekspor & Impor Indonesia Berdasarkan Nilai Tukar Rupiah terhadap USD**\n",
        "\n",
        "Proyek ini bertujuan untuk menganalisis dan memprediksi hubungan antara fluktuasi nilai tukar Rupiah (kurs beli & jual) terhadap kinerja ekspor dan impor non-migas Indonesia periode 2020–2024.\n",
        "\n",
        "Dengan pendekatan machine learning (supervised learning), model regresi Linear dan Random Forest digunakan untuk mengevaluasi seberapa besar pengaruh kurs terhadap volume perdagangan internasional.\n",
        "\n",
        "**Tujuan**\n",
        "- Mendukung pengambilan keputusan berbasis data dalam kebijakan ekonomi dan perdagangan luar negeri.\n",
        "- Menunjukkan keterampilan dalam pembersihan data, visualisasi korelasi, pemodelan regresi, dan interpretasi hasil dalam konteks Data Engineering.\n",
        "\n",
        "**Tools & Teknologi**\n",
        "- Python\n",
        "- Google Colab\n",
        "- pandas, seaborn, matplotlib, scikit-learn\n",
        "- Linear Regression, Random Forest Regressor\n",
        "\n",
        "**Hasil**\n",
        "- Korelasi kurs dengan ekspor sangat lemah (0.034), dan dengan impor lemah hingga sedang (0.038).\n",
        "- R² model regresi linier untuk ekspor: -0.0149, untuk impor: -0.0879\n",
        "- R² model random forest untuk ekspor: -0.0042, untuk impor: -0.0499\n",
        "- Prediksi menunjukkan bahwa kurs hanya berkontribusi kecil terhadap perubahan volume ekspor dan impor.\n",
        "\n",
        "**Konteks Akademik**\n",
        "\n",
        "Proyek ini dikembangkan sebagai bagian dari tugas mata kuliah Data Engineering, dengan fokus pada:\n",
        "\n",
        "- Transformasi dan integrasi data ekonomi makro\n",
        "- Implementasi supervised learning untuk prediksi numerik\n",
        "- Pemodelan dan evaluasi hubungan antar variabel makroekonomi\n",
        "- Penggabungan data multi-sumber menjadi insight kebijakan yang bermakna\n"
      ],
      "metadata": {
        "id": "-ano-ok_d11q"
      }
    },
    {
      "cell_type": "code",
      "source": [
        "# Import Library\n",
        "\n",
        "from sqlalchemy import create_engine\n",
        "import pandas as pd\n",
        "import numpy as np\n",
        "import matplotlib.pyplot as plt\n",
        "import seaborn as sns"
      ],
      "metadata": {
        "id": "o93XktJIyQrW"
      },
      "execution_count": 43,
      "outputs": []
    },
    {
      "cell_type": "code",
      "source": [
        "from sklearn.linear_model import LinearRegression\n",
        "from sklearn.ensemble import RandomForestRegressor\n",
        "from sklearn.model_selection import train_test_split\n",
        "from sklearn.metrics import r2_score, mean_squared_error"
      ],
      "metadata": {
        "id": "ASpERWb_Du2J"
      },
      "execution_count": 44,
      "outputs": []
    },
    {
      "cell_type": "code",
      "source": [
        "# informasi dari Aiven\n",
        "host = 'pg-3eaef719-dataengineering-kel4.j.aivencloud.com'\n",
        "port = '26044'\n",
        "database = 'defaultdb'\n",
        "user = 'avnadmin'\n",
        "password = 'AVNS_xOsSjlrmL3kwMTzS8GB'\n",
        "\n",
        "# Buat connection string\n",
        "connection_string = f'postgresql://{user}:{password}@{host}:{port}/{database}'\n",
        "\n",
        "# Buat engine\n",
        "engine = create_engine(connection_string)\n",
        "\n",
        "df_dataEkposrImpor = pd.read_sql('SELECT * FROM \"tabelEksporImpor\"', engine)"
      ],
      "metadata": {
        "id": "pF35E8IMyQhm"
      },
      "execution_count": 45,
      "outputs": []
    },
    {
      "cell_type": "code",
      "source": [
        "df_dataEkposrImpor.head(5)"
      ],
      "metadata": {
        "colab": {
          "base_uri": "https://localhost:8080/",
          "height": 206
        },
        "id": "RhTLUMCqzawG",
        "outputId": "c16b305f-5009-4e9c-bda8-dcb39f79cd0e"
      },
      "execution_count": 46,
      "outputs": [
        {
          "output_type": "execute_result",
          "data": {
            "text/plain": [
              "       HS          Uraian  Tahun  Nilai_Ekspor  Nilai_Impor     Kurs_Beli  \\\n",
              "0  1.2020  Binatang hidup   2020          80.4        471.0  14499.142327   \n",
              "1  1.2021  Binatang hidup   2021          61.9        572.0  14241.573882   \n",
              "2  1.2022  Binatang hidup   2022          63.9        512.3  14772.302311   \n",
              "3  1.2023  Binatang hidup   2023          27.2        401.4  15178.775105   \n",
              "4  1.2024  Binatang hidup   2024           5.4        566.4  15767.665042   \n",
              "\n",
              "      Kurs_Jual  \n",
              "0  14644.862327  \n",
              "1  14384.705255  \n",
              "2  14920.767437  \n",
              "3  15331.325481  \n",
              "4  15926.133571  "
            ],
            "text/html": [
              "\n",
              "  <div id=\"df-a89c36a0-9f54-4f51-9691-f07a6e505e4c\" class=\"colab-df-container\">\n",
              "    <div>\n",
              "<style scoped>\n",
              "    .dataframe tbody tr th:only-of-type {\n",
              "        vertical-align: middle;\n",
              "    }\n",
              "\n",
              "    .dataframe tbody tr th {\n",
              "        vertical-align: top;\n",
              "    }\n",
              "\n",
              "    .dataframe thead th {\n",
              "        text-align: right;\n",
              "    }\n",
              "</style>\n",
              "<table border=\"1\" class=\"dataframe\">\n",
              "  <thead>\n",
              "    <tr style=\"text-align: right;\">\n",
              "      <th></th>\n",
              "      <th>HS</th>\n",
              "      <th>Uraian</th>\n",
              "      <th>Tahun</th>\n",
              "      <th>Nilai_Ekspor</th>\n",
              "      <th>Nilai_Impor</th>\n",
              "      <th>Kurs_Beli</th>\n",
              "      <th>Kurs_Jual</th>\n",
              "    </tr>\n",
              "  </thead>\n",
              "  <tbody>\n",
              "    <tr>\n",
              "      <th>0</th>\n",
              "      <td>1.2020</td>\n",
              "      <td>Binatang hidup</td>\n",
              "      <td>2020</td>\n",
              "      <td>80.4</td>\n",
              "      <td>471.0</td>\n",
              "      <td>14499.142327</td>\n",
              "      <td>14644.862327</td>\n",
              "    </tr>\n",
              "    <tr>\n",
              "      <th>1</th>\n",
              "      <td>1.2021</td>\n",
              "      <td>Binatang hidup</td>\n",
              "      <td>2021</td>\n",
              "      <td>61.9</td>\n",
              "      <td>572.0</td>\n",
              "      <td>14241.573882</td>\n",
              "      <td>14384.705255</td>\n",
              "    </tr>\n",
              "    <tr>\n",
              "      <th>2</th>\n",
              "      <td>1.2022</td>\n",
              "      <td>Binatang hidup</td>\n",
              "      <td>2022</td>\n",
              "      <td>63.9</td>\n",
              "      <td>512.3</td>\n",
              "      <td>14772.302311</td>\n",
              "      <td>14920.767437</td>\n",
              "    </tr>\n",
              "    <tr>\n",
              "      <th>3</th>\n",
              "      <td>1.2023</td>\n",
              "      <td>Binatang hidup</td>\n",
              "      <td>2023</td>\n",
              "      <td>27.2</td>\n",
              "      <td>401.4</td>\n",
              "      <td>15178.775105</td>\n",
              "      <td>15331.325481</td>\n",
              "    </tr>\n",
              "    <tr>\n",
              "      <th>4</th>\n",
              "      <td>1.2024</td>\n",
              "      <td>Binatang hidup</td>\n",
              "      <td>2024</td>\n",
              "      <td>5.4</td>\n",
              "      <td>566.4</td>\n",
              "      <td>15767.665042</td>\n",
              "      <td>15926.133571</td>\n",
              "    </tr>\n",
              "  </tbody>\n",
              "</table>\n",
              "</div>\n",
              "    <div class=\"colab-df-buttons\">\n",
              "\n",
              "  <div class=\"colab-df-container\">\n",
              "    <button class=\"colab-df-convert\" onclick=\"convertToInteractive('df-a89c36a0-9f54-4f51-9691-f07a6e505e4c')\"\n",
              "            title=\"Convert this dataframe to an interactive table.\"\n",
              "            style=\"display:none;\">\n",
              "\n",
              "  <svg xmlns=\"http://www.w3.org/2000/svg\" height=\"24px\" viewBox=\"0 -960 960 960\">\n",
              "    <path d=\"M120-120v-720h720v720H120Zm60-500h600v-160H180v160Zm220 220h160v-160H400v160Zm0 220h160v-160H400v160ZM180-400h160v-160H180v160Zm440 0h160v-160H620v160ZM180-180h160v-160H180v160Zm440 0h160v-160H620v160Z\"/>\n",
              "  </svg>\n",
              "    </button>\n",
              "\n",
              "  <style>\n",
              "    .colab-df-container {\n",
              "      display:flex;\n",
              "      gap: 12px;\n",
              "    }\n",
              "\n",
              "    .colab-df-convert {\n",
              "      background-color: #E8F0FE;\n",
              "      border: none;\n",
              "      border-radius: 50%;\n",
              "      cursor: pointer;\n",
              "      display: none;\n",
              "      fill: #1967D2;\n",
              "      height: 32px;\n",
              "      padding: 0 0 0 0;\n",
              "      width: 32px;\n",
              "    }\n",
              "\n",
              "    .colab-df-convert:hover {\n",
              "      background-color: #E2EBFA;\n",
              "      box-shadow: 0px 1px 2px rgba(60, 64, 67, 0.3), 0px 1px 3px 1px rgba(60, 64, 67, 0.15);\n",
              "      fill: #174EA6;\n",
              "    }\n",
              "\n",
              "    .colab-df-buttons div {\n",
              "      margin-bottom: 4px;\n",
              "    }\n",
              "\n",
              "    [theme=dark] .colab-df-convert {\n",
              "      background-color: #3B4455;\n",
              "      fill: #D2E3FC;\n",
              "    }\n",
              "\n",
              "    [theme=dark] .colab-df-convert:hover {\n",
              "      background-color: #434B5C;\n",
              "      box-shadow: 0px 1px 3px 1px rgba(0, 0, 0, 0.15);\n",
              "      filter: drop-shadow(0px 1px 2px rgba(0, 0, 0, 0.3));\n",
              "      fill: #FFFFFF;\n",
              "    }\n",
              "  </style>\n",
              "\n",
              "    <script>\n",
              "      const buttonEl =\n",
              "        document.querySelector('#df-a89c36a0-9f54-4f51-9691-f07a6e505e4c button.colab-df-convert');\n",
              "      buttonEl.style.display =\n",
              "        google.colab.kernel.accessAllowed ? 'block' : 'none';\n",
              "\n",
              "      async function convertToInteractive(key) {\n",
              "        const element = document.querySelector('#df-a89c36a0-9f54-4f51-9691-f07a6e505e4c');\n",
              "        const dataTable =\n",
              "          await google.colab.kernel.invokeFunction('convertToInteractive',\n",
              "                                                    [key], {});\n",
              "        if (!dataTable) return;\n",
              "\n",
              "        const docLinkHtml = 'Like what you see? Visit the ' +\n",
              "          '<a target=\"_blank\" href=https://colab.research.google.com/notebooks/data_table.ipynb>data table notebook</a>'\n",
              "          + ' to learn more about interactive tables.';\n",
              "        element.innerHTML = '';\n",
              "        dataTable['output_type'] = 'display_data';\n",
              "        await google.colab.output.renderOutput(dataTable, element);\n",
              "        const docLink = document.createElement('div');\n",
              "        docLink.innerHTML = docLinkHtml;\n",
              "        element.appendChild(docLink);\n",
              "      }\n",
              "    </script>\n",
              "  </div>\n",
              "\n",
              "\n",
              "    <div id=\"df-5ef5a3f7-3624-45fb-b4c1-c3e1bb7e365a\">\n",
              "      <button class=\"colab-df-quickchart\" onclick=\"quickchart('df-5ef5a3f7-3624-45fb-b4c1-c3e1bb7e365a')\"\n",
              "                title=\"Suggest charts\"\n",
              "                style=\"display:none;\">\n",
              "\n",
              "<svg xmlns=\"http://www.w3.org/2000/svg\" height=\"24px\"viewBox=\"0 0 24 24\"\n",
              "     width=\"24px\">\n",
              "    <g>\n",
              "        <path d=\"M19 3H5c-1.1 0-2 .9-2 2v14c0 1.1.9 2 2 2h14c1.1 0 2-.9 2-2V5c0-1.1-.9-2-2-2zM9 17H7v-7h2v7zm4 0h-2V7h2v10zm4 0h-2v-4h2v4z\"/>\n",
              "    </g>\n",
              "</svg>\n",
              "      </button>\n",
              "\n",
              "<style>\n",
              "  .colab-df-quickchart {\n",
              "      --bg-color: #E8F0FE;\n",
              "      --fill-color: #1967D2;\n",
              "      --hover-bg-color: #E2EBFA;\n",
              "      --hover-fill-color: #174EA6;\n",
              "      --disabled-fill-color: #AAA;\n",
              "      --disabled-bg-color: #DDD;\n",
              "  }\n",
              "\n",
              "  [theme=dark] .colab-df-quickchart {\n",
              "      --bg-color: #3B4455;\n",
              "      --fill-color: #D2E3FC;\n",
              "      --hover-bg-color: #434B5C;\n",
              "      --hover-fill-color: #FFFFFF;\n",
              "      --disabled-bg-color: #3B4455;\n",
              "      --disabled-fill-color: #666;\n",
              "  }\n",
              "\n",
              "  .colab-df-quickchart {\n",
              "    background-color: var(--bg-color);\n",
              "    border: none;\n",
              "    border-radius: 50%;\n",
              "    cursor: pointer;\n",
              "    display: none;\n",
              "    fill: var(--fill-color);\n",
              "    height: 32px;\n",
              "    padding: 0;\n",
              "    width: 32px;\n",
              "  }\n",
              "\n",
              "  .colab-df-quickchart:hover {\n",
              "    background-color: var(--hover-bg-color);\n",
              "    box-shadow: 0 1px 2px rgba(60, 64, 67, 0.3), 0 1px 3px 1px rgba(60, 64, 67, 0.15);\n",
              "    fill: var(--button-hover-fill-color);\n",
              "  }\n",
              "\n",
              "  .colab-df-quickchart-complete:disabled,\n",
              "  .colab-df-quickchart-complete:disabled:hover {\n",
              "    background-color: var(--disabled-bg-color);\n",
              "    fill: var(--disabled-fill-color);\n",
              "    box-shadow: none;\n",
              "  }\n",
              "\n",
              "  .colab-df-spinner {\n",
              "    border: 2px solid var(--fill-color);\n",
              "    border-color: transparent;\n",
              "    border-bottom-color: var(--fill-color);\n",
              "    animation:\n",
              "      spin 1s steps(1) infinite;\n",
              "  }\n",
              "\n",
              "  @keyframes spin {\n",
              "    0% {\n",
              "      border-color: transparent;\n",
              "      border-bottom-color: var(--fill-color);\n",
              "      border-left-color: var(--fill-color);\n",
              "    }\n",
              "    20% {\n",
              "      border-color: transparent;\n",
              "      border-left-color: var(--fill-color);\n",
              "      border-top-color: var(--fill-color);\n",
              "    }\n",
              "    30% {\n",
              "      border-color: transparent;\n",
              "      border-left-color: var(--fill-color);\n",
              "      border-top-color: var(--fill-color);\n",
              "      border-right-color: var(--fill-color);\n",
              "    }\n",
              "    40% {\n",
              "      border-color: transparent;\n",
              "      border-right-color: var(--fill-color);\n",
              "      border-top-color: var(--fill-color);\n",
              "    }\n",
              "    60% {\n",
              "      border-color: transparent;\n",
              "      border-right-color: var(--fill-color);\n",
              "    }\n",
              "    80% {\n",
              "      border-color: transparent;\n",
              "      border-right-color: var(--fill-color);\n",
              "      border-bottom-color: var(--fill-color);\n",
              "    }\n",
              "    90% {\n",
              "      border-color: transparent;\n",
              "      border-bottom-color: var(--fill-color);\n",
              "    }\n",
              "  }\n",
              "</style>\n",
              "\n",
              "      <script>\n",
              "        async function quickchart(key) {\n",
              "          const quickchartButtonEl =\n",
              "            document.querySelector('#' + key + ' button');\n",
              "          quickchartButtonEl.disabled = true;  // To prevent multiple clicks.\n",
              "          quickchartButtonEl.classList.add('colab-df-spinner');\n",
              "          try {\n",
              "            const charts = await google.colab.kernel.invokeFunction(\n",
              "                'suggestCharts', [key], {});\n",
              "          } catch (error) {\n",
              "            console.error('Error during call to suggestCharts:', error);\n",
              "          }\n",
              "          quickchartButtonEl.classList.remove('colab-df-spinner');\n",
              "          quickchartButtonEl.classList.add('colab-df-quickchart-complete');\n",
              "        }\n",
              "        (() => {\n",
              "          let quickchartButtonEl =\n",
              "            document.querySelector('#df-5ef5a3f7-3624-45fb-b4c1-c3e1bb7e365a button');\n",
              "          quickchartButtonEl.style.display =\n",
              "            google.colab.kernel.accessAllowed ? 'block' : 'none';\n",
              "        })();\n",
              "      </script>\n",
              "    </div>\n",
              "\n",
              "    </div>\n",
              "  </div>\n"
            ],
            "application/vnd.google.colaboratory.intrinsic+json": {
              "type": "dataframe",
              "variable_name": "df_dataEkposrImpor",
              "summary": "{\n  \"name\": \"df_dataEkposrImpor\",\n  \"rows\": 490,\n  \"fields\": [\n    {\n      \"column\": \"HS\",\n      \"properties\": {\n        \"dtype\": \"number\",\n        \"std\": 28.62092010671757,\n        \"min\": 1.202,\n        \"max\": 99.2024,\n        \"num_unique_values\": 490,\n        \"samples\": [\n          92.2022,\n          17.2024,\n          88.2024\n        ],\n        \"semantic_type\": \"\",\n        \"description\": \"\"\n      }\n    },\n    {\n      \"column\": \"Uraian\",\n      \"properties\": {\n        \"dtype\": \"category\",\n        \"num_unique_values\": 98,\n        \"samples\": [\n          \"Barang tekstil sudah jadi lainnya\",\n          \"Hide dan skin mentah (selain kulit berbulu) dan kulit samak\",\n          \"Bermacam-macam barang hasil pabrik\"\n        ],\n        \"semantic_type\": \"\",\n        \"description\": \"\"\n      }\n    },\n    {\n      \"column\": \"Tahun\",\n      \"properties\": {\n        \"dtype\": \"number\",\n        \"std\": 1,\n        \"min\": 2020,\n        \"max\": 2024,\n        \"num_unique_values\": 5,\n        \"samples\": [\n          2021,\n          2024,\n          2022\n        ],\n        \"semantic_type\": \"\",\n        \"description\": \"\"\n      }\n    },\n    {\n      \"column\": \"Nilai_Ekspor\",\n      \"properties\": {\n        \"dtype\": \"number\",\n        \"std\": 5716.69646911739,\n        \"min\": 0.0,\n        \"max\": 54998.7,\n        \"num_unique_values\": 463,\n        \"samples\": [\n          94.9,\n          166.0,\n          967.9\n        ],\n        \"semantic_type\": \"\",\n        \"description\": \"\"\n      }\n    },\n    {\n      \"column\": \"Nilai_Impor\",\n      \"properties\": {\n        \"dtype\": \"number\",\n        \"std\": 4132.586948708687,\n        \"min\": 0.5,\n        \"max\": 33514.3,\n        \"num_unique_values\": 481,\n        \"samples\": [\n          282.2,\n          600.4,\n          93.4\n        ],\n        \"semantic_type\": \"\",\n        \"description\": \"\"\n      }\n    },\n    {\n      \"column\": \"Kurs_Beli\",\n      \"properties\": {\n        \"dtype\": \"number\",\n        \"std\": 537.344266857357,\n        \"min\": 14241.57388235294,\n        \"max\": 15767.665042016806,\n        \"num_unique_values\": 5,\n        \"samples\": [\n          14241.57388235294,\n          15767.665042016806,\n          14772.302310924371\n        ],\n        \"semantic_type\": \"\",\n        \"description\": \"\"\n      }\n    },\n    {\n      \"column\": \"Kurs_Jual\",\n      \"properties\": {\n        \"dtype\": \"number\",\n        \"std\": 542.7445650049018,\n        \"min\": 14384.70525490196,\n        \"max\": 15926.133571428572,\n        \"num_unique_values\": 5,\n        \"samples\": [\n          14384.70525490196,\n          15926.133571428572,\n          14920.76743697479\n        ],\n        \"semantic_type\": \"\",\n        \"description\": \"\"\n      }\n    }\n  ]\n}"
            }
          },
          "metadata": {},
          "execution_count": 46
        }
      ]
    },
    {
      "cell_type": "code",
      "source": [
        "# MEngecek Isi nilai null\n",
        "\n",
        "df_dataEkposrImpor.isnull().sum()"
      ],
      "metadata": {
        "id": "0kUjTFF83BqK",
        "colab": {
          "base_uri": "https://localhost:8080/",
          "height": 304
        },
        "outputId": "70152d33-fbff-4e45-9fa5-ba984e45d485"
      },
      "execution_count": 47,
      "outputs": [
        {
          "output_type": "execute_result",
          "data": {
            "text/plain": [
              "HS              0\n",
              "Uraian          0\n",
              "Tahun           0\n",
              "Nilai_Ekspor    0\n",
              "Nilai_Impor     0\n",
              "Kurs_Beli       0\n",
              "Kurs_Jual       0\n",
              "dtype: int64"
            ],
            "text/html": [
              "<div>\n",
              "<style scoped>\n",
              "    .dataframe tbody tr th:only-of-type {\n",
              "        vertical-align: middle;\n",
              "    }\n",
              "\n",
              "    .dataframe tbody tr th {\n",
              "        vertical-align: top;\n",
              "    }\n",
              "\n",
              "    .dataframe thead th {\n",
              "        text-align: right;\n",
              "    }\n",
              "</style>\n",
              "<table border=\"1\" class=\"dataframe\">\n",
              "  <thead>\n",
              "    <tr style=\"text-align: right;\">\n",
              "      <th></th>\n",
              "      <th>0</th>\n",
              "    </tr>\n",
              "  </thead>\n",
              "  <tbody>\n",
              "    <tr>\n",
              "      <th>HS</th>\n",
              "      <td>0</td>\n",
              "    </tr>\n",
              "    <tr>\n",
              "      <th>Uraian</th>\n",
              "      <td>0</td>\n",
              "    </tr>\n",
              "    <tr>\n",
              "      <th>Tahun</th>\n",
              "      <td>0</td>\n",
              "    </tr>\n",
              "    <tr>\n",
              "      <th>Nilai_Ekspor</th>\n",
              "      <td>0</td>\n",
              "    </tr>\n",
              "    <tr>\n",
              "      <th>Nilai_Impor</th>\n",
              "      <td>0</td>\n",
              "    </tr>\n",
              "    <tr>\n",
              "      <th>Kurs_Beli</th>\n",
              "      <td>0</td>\n",
              "    </tr>\n",
              "    <tr>\n",
              "      <th>Kurs_Jual</th>\n",
              "      <td>0</td>\n",
              "    </tr>\n",
              "  </tbody>\n",
              "</table>\n",
              "</div><br><label><b>dtype:</b> int64</label>"
            ]
          },
          "metadata": {},
          "execution_count": 47
        }
      ]
    },
    {
      "cell_type": "code",
      "source": [
        "# Heatmap korelasi antara kurs dan ekspor-impor\n",
        "plt.figure(figsize=(8,6))\n",
        "sns.heatmap(df_dataEkposrImpor[['Kurs_Beli', 'Kurs_Jual', 'Nilai_Ekspor', 'Nilai_Impor']].corr(), annot=True, cmap='coolwarm')\n",
        "plt.title(\"Korelasi Kurs terhadap Ekspor dan Impor\")\n",
        "plt.show()"
      ],
      "metadata": {
        "colab": {
          "base_uri": "https://localhost:8080/",
          "height": 545
        },
        "id": "DifUhAt0GXK3",
        "outputId": "74b7d7ad-fe26-465e-d8dc-7837cfaad340"
      },
      "execution_count": 48,
      "outputs": [
        {
          "output_type": "display_data",
          "data": {
            "text/plain": [
              "<Figure size 800x600 with 2 Axes>"
            ],
            "image/png": "[encoded data removed]"
          },
          "metadata": {}
        }
      ]
    },
    {
      "cell_type": "code",
      "source": [
        "# fitur dan target\n",
        "features = ['Kurs_Beli', 'Kurs_Jual']\n",
        "X = df_dataEkposrImpor[features]\n",
        "y_ekspor = df_dataEkposrImpor['Nilai_Ekspor']\n",
        "y_impor = df_dataEkposrImpor['Nilai_Impor']"
      ],
      "metadata": {
        "id": "VxTs221iHCrX"
      },
      "execution_count": 49,
      "outputs": []
    },
    {
      "cell_type": "code",
      "source": [
        "# Split data untuk ekspor dan impor\n",
        "X_train_e, X_test_e, y_train_e, y_test_e = train_test_split(X, y_ekspor, test_size=0.2, random_state=42)\n",
        "X_train_i, X_test_i, y_train_i, y_test_i = train_test_split(X, y_impor, test_size=0.2, random_state=42)"
      ],
      "metadata": {
        "id": "Awo4sFhpHOQs"
      },
      "execution_count": 50,
      "outputs": []
    },
    {
      "cell_type": "code",
      "source": [
        "# Model Regresi Linier\n",
        "lr_ekspor = LinearRegression().fit(X_train_e, y_train_e)\n",
        "lr_impor = LinearRegression().fit(X_train_i, y_train_i)"
      ],
      "metadata": {
        "id": "h2NvtcIZHXlH"
      },
      "execution_count": 51,
      "outputs": []
    },
    {
      "cell_type": "code",
      "source": [
        "# Model Random Forest\n",
        "rf_ekspor = RandomForestRegressor(n_estimators=100, random_state=42).fit(X_train_e, y_train_e)\n",
        "rf_impor = RandomForestRegressor(n_estimators=100, random_state=42).fit(X_train_i, y_train_i)"
      ],
      "metadata": {
        "id": "ZqAKPCgEHaGM"
      },
      "execution_count": 52,
      "outputs": []
    },
    {
      "cell_type": "code",
      "source": [
        "# Evaluasi Linear Regression Ekspor\n",
        "print(\"=== Linear Regression Ekspor ===\")\n",
        "print(\"R²:\", r2_score(y_test_e, lr_ekspor.predict(X_test_e)))\n",
        "print(\"RMSE:\", np.sqrt(mean_squared_error(y_test_e, lr_ekspor.predict(X_test_e))))\n",
        "print(\"Intercept (α):\", lr_ekspor.intercept_)\n",
        "print(\"Slope Kurs_Beli (β1):\", lr_ekspor.coef_[0])\n",
        "print(\"Slope Kurs_Jual (β2):\", lr_ekspor.coef_[1])"
      ],
      "metadata": {
        "colab": {
          "base_uri": "https://localhost:8080/"
        },
        "id": "YCkhae3ZHbIz",
        "outputId": "25020a67-96bf-4826-c703-0afeef2b1f48"
      },
      "execution_count": 53,
      "outputs": [
        {
          "output_type": "stream",
          "name": "stdout",
          "text": [
            "=== Linear Regression Ekspor ===\n",
            "R²: -0.01492884488979107\n",
            "RMSE: 6151.580233562059\n",
            "Intercept (α): -811.9217499246406\n",
            "Slope Kurs_Beli (β1): 1919592.4040260254\n",
            "Slope Kurs_Jual (β2): -1900491.798432657\n"
          ]
        }
      ]
    },
    {
      "cell_type": "code",
      "source": [
        "# Evaluasi Linear Regression Impor\n",
        "print(\"\\n=== Linear Regression Impor ===\")\n",
        "print(\"R²:\", r2_score(y_test_i, lr_impor.predict(X_test_i)))\n",
        "print(\"RMSE:\", np.sqrt(mean_squared_error(y_test_i, lr_impor.predict(X_test_i))))\n",
        "print(\"Intercept (α):\", lr_impor.intercept_)\n",
        "print(\"Slope Kurs_Beli (β1):\", lr_impor.coef_[0])\n",
        "print(\"Slope Kurs_Jual (β2):\", lr_impor.coef_[1])"
      ],
      "metadata": {
        "colab": {
          "base_uri": "https://localhost:8080/"
        },
        "id": "rvHcydH0HhWJ",
        "outputId": "53304ece-8af5-4675-90b6-d4d2369a788e"
      },
      "execution_count": 54,
      "outputs": [
        {
          "output_type": "stream",
          "name": "stdout",
          "text": [
            "\n",
            "=== Linear Regression Impor ===\n",
            "R²: -0.08796767941414063\n",
            "RMSE: 2123.500294624109\n",
            "Intercept (α): 3580.4590317083866\n",
            "Slope Kurs_Beli (β1): 1484178.2828339294\n",
            "Slope Kurs_Jual (β2): -1469410.4670670014\n"
          ]
        }
      ]
    },
    {
      "cell_type": "code",
      "source": [
        "# Evaluasi Random Forest Ekspor\n",
        "print(\"\\n=== Random Forest Ekspor ===\")\n",
        "print(\"R²:\", r2_score(y_test_e, rf_ekspor.predict(X_test_e)))"
      ],
      "metadata": {
        "colab": {
          "base_uri": "https://localhost:8080/"
        },
        "id": "g9uHh7_iHi4w",
        "outputId": "d2183c75-5edd-4197-e6ab-2aabc83fc976"
      },
      "execution_count": 55,
      "outputs": [
        {
          "output_type": "stream",
          "name": "stdout",
          "text": [
            "\n",
            "=== Random Forest Ekspor ===\n",
            "R²: -0.004278938806701937\n"
          ]
        }
      ]
    },
    {
      "cell_type": "code",
      "source": [
        "# Evaluasi Random Forest Impor\n",
        "print(\"\\n=== Random Forest Impor ===\")\n",
        "print(\"R²:\", r2_score(y_test_i, rf_impor.predict(X_test_i)))"
      ],
      "metadata": {
        "colab": {
          "base_uri": "https://localhost:8080/"
        },
        "id": "79bJlOCkHpEz",
        "outputId": "0f605100-d148-44f8-a7ff-a5778a020fb0"
      },
      "execution_count": 56,
      "outputs": [
        {
          "output_type": "stream",
          "name": "stdout",
          "text": [
            "\n",
            "=== Random Forest Impor ===\n",
            "R²: -0.049929312087700906\n"
          ]
        }
      ]
    },
    {
      "cell_type": "code",
      "source": [
        "# Pentingnya fitur pada model ekspor\n",
        "print(\"\\nFeature Importance (Ekspor - Random Forest):\")\n",
        "for feat, imp in zip(features, rf_ekspor.feature_importances_):\n",
        "    print(f\"{feat}: {imp:.4f}\")"
      ],
      "metadata": {
        "colab": {
          "base_uri": "https://localhost:8080/"
        },
        "id": "ue5TK6EwHq8O",
        "outputId": "df21bdec-fc7d-4033-d61f-2851c70b1888"
      },
      "execution_count": 57,
      "outputs": [
        {
          "output_type": "stream",
          "name": "stdout",
          "text": [
            "\n",
            "Feature Importance (Ekspor - Random Forest):\n",
            "Kurs_Beli: 0.5043\n",
            "Kurs_Jual: 0.4957\n"
          ]
        }
      ]
    },
    {
      "cell_type": "code",
      "source": [
        "# Pentingnya fitur pada model impor\n",
        "print(\"\\nFeature Importance (Impor - Random Forest):\")\n",
        "for feat, imp in zip(features, rf_impor.feature_importances_):\n",
        "    print(f\"{feat}: {imp:.4f}\")"
      ],
      "metadata": {
        "colab": {
          "base_uri": "https://localhost:8080/"
        },
        "id": "kbkoEExRHqt6",
        "outputId": "5fbdac56-e087-459e-c4eb-c448d9c64b91"
      },
      "execution_count": 58,
      "outputs": [
        {
          "output_type": "stream",
          "name": "stdout",
          "text": [
            "\n",
            "Feature Importance (Impor - Random Forest):\n",
            "Kurs_Beli: 0.4674\n",
            "Kurs_Jual: 0.5326\n"
          ]
        }
      ]
    },
    {
      "cell_type": "code",
      "source": [
        "# Prediksi ekspor dan impor untuk nilai kurs tertentu\n",
        "input_data = [[15800, 15700]]\n",
        "pred_ekspor = lr_ekspor.predict(input_data)[0]\n",
        "pred_impor = lr_impor.predict(input_data)[0]\n",
        "\n",
        "print(f\"\\n Prediksi Ekspor (Linear Regression): {pred_ekspor:,.2f}\")\n",
        "print(f\" Prediksi Impor (Linear Regression): {pred_impor:,.2f}\")"
      ],
      "metadata": {
        "colab": {
          "base_uri": "https://localhost:8080/"
        },
        "id": "8lnJho97HzMt",
        "outputId": "75d65068-4b28-4842-a412-b5a2999f4b9f"
      },
      "execution_count": 59,
      "outputs": [
        {
          "output_type": "stream",
          "name": "stdout",
          "text": [
            "\n",
            " Prediksi Ekspor (Linear Regression): 491,837,936.30\n",
            " Prediksi Impor (Linear Regression): 380,276,116.28\n"
          ]
        },
        {
          "output_type": "stream",
          "name": "stderr",
          "text": [
            "/usr/local/lib/python3.11/dist-packages/sklearn/utils/validation.py:2739: UserWarning: X does not have valid feature names, but LinearRegression was fitted with feature names\n",
            "  warnings.warn(\n",
            "/usr/local/lib/python3.11/dist-packages/sklearn/utils/validation.py:2739: UserWarning: X does not have valid feature names, but LinearRegression was fitted with feature names\n",
            "  warnings.warn(\n"
          ]
        }
      ]
    },
    {
      "cell_type": "markdown",
      "source": [
        "**Kesimpulan**\n",
        "\n",
        "Fluktuasi nilai tukar Rupiah terhadap USD tidak terbukti memiliki pengaruh yang kuat atau signifikan secara statistik terhadap nilai ekspor dan impor Indonesia pada periode 2020–2024 berdasarkan model machine learning yang dibangun.\n",
        "\n",
        "Hal ini mengindikasikan bahwa faktor lain seperti:\n",
        "* Harga komoditas global\n",
        "* Permintaan dan kebijakan perdagangan luar negeri\n",
        "* Biaya logistik dan transportasi\n",
        "* Perjanjian dagang bilateral/multilateral\n",
        "\n",
        "kemungkinan lebih berperan besar dalam memengaruhi kinerja ekspor dan impor Indonesia daripada fluktuasi kurs."
      ],
      "metadata": {
        "id": "rr-aSbj3gwAv"
      }
    }
  ]
}